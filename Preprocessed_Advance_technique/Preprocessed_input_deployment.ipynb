{
 "cells": [
  {
   "cell_type": "code",
   "execution_count": 1,
   "id": "a0702051-523b-4dc9-a76d-6fd901c1dcda",
   "metadata": {},
   "outputs": [],
   "source": [
    "import pickle"
   ]
  },
  {
   "cell_type": "code",
   "execution_count": 2,
   "id": "f535a02c-5e05-4342-b0a2-ea47a143bff7",
   "metadata": {},
   "outputs": [],
   "source": [
    "loadmodle=pickle.load(open('SVM_Preprocessed_Input.sav','rb'))"
   ]
  },
  {
   "cell_type": "code",
   "execution_count": 3,
   "id": "9e0b210c-4955-49a4-8748-9f295674ddcd",
   "metadata": {},
   "outputs": [],
   "source": [
    "loadsc=pickle.load(open('sc.sav','rb'))"
   ]
  },
  {
   "cell_type": "code",
   "execution_count": 5,
   "id": "f4b8cfe1-6a4f-46ef-a9a9-ded37b7ad5a0",
   "metadata": {},
   "outputs": [
    {
     "name": "stderr",
     "output_type": "stream",
     "text": [
      "C:\\Users\\mojayara\\myenv\\Lib\\site-packages\\sklearn\\utils\\validation.py:2739: UserWarning: X does not have valid feature names, but StandardScaler was fitted with feature names\n",
      "  warnings.warn(\n"
     ]
    }
   ],
   "source": [
    "preinput=loadsc.transform([[2000,12000,4000,0,1]])"
   ]
  },
  {
   "cell_type": "code",
   "execution_count": 6,
   "id": "47cb3211-50e7-4dc3-8bc2-2a533bcd4328",
   "metadata": {},
   "outputs": [
    {
     "data": {
      "text/plain": [
       "array([[-1.4804659 , -4.37279969, -1.56079131, -0.52522573,  1.35873244]])"
      ]
     },
     "execution_count": 6,
     "metadata": {},
     "output_type": "execute_result"
    }
   ],
   "source": [
    "preinput"
   ]
  },
  {
   "cell_type": "code",
   "execution_count": 7,
   "id": "7fa3338b-cae4-4660-895c-0c62bbb6d1a0",
   "metadata": {},
   "outputs": [],
   "source": [
    "result=loadmodle.predict(preinput)"
   ]
  },
  {
   "cell_type": "code",
   "execution_count": 8,
   "id": "1e442587-34f1-4860-a356-54f4c5223f39",
   "metadata": {},
   "outputs": [
    {
     "data": {
      "text/plain": [
       "array([108732.2247852])"
      ]
     },
     "execution_count": 8,
     "metadata": {},
     "output_type": "execute_result"
    }
   ],
   "source": [
    "result"
   ]
  },
  {
   "cell_type": "code",
   "execution_count": null,
   "id": "12b04e5a-dbab-42ea-b2c5-3ae144bc95bc",
   "metadata": {},
   "outputs": [],
   "source": []
  }
 ],
 "metadata": {
  "kernelspec": {
   "display_name": "Python 3 (ipykernel)",
   "language": "python",
   "name": "python3"
  },
  "language_info": {
   "codemirror_mode": {
    "name": "ipython",
    "version": 3
   },
   "file_extension": ".py",
   "mimetype": "text/x-python",
   "name": "python",
   "nbconvert_exporter": "python",
   "pygments_lexer": "ipython3",
   "version": "3.13.3"
  }
 },
 "nbformat": 4,
 "nbformat_minor": 5
}
