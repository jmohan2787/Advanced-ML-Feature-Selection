{
 "cells": [
  {
   "cell_type": "code",
   "execution_count": 88,
   "id": "dbfbf0e4-ae77-4896-89f6-08e926cacde7",
   "metadata": {},
   "outputs": [],
   "source": [
    "import pickle"
   ]
  },
  {
   "cell_type": "code",
   "execution_count": 89,
   "id": "a5d6ffda-1919-4119-953f-6019d4e5310a",
   "metadata": {},
   "outputs": [],
   "source": [
    "loadmodle=pickle.load(open('SVM_input_output_preprocessed.sav','rb'))"
   ]
  },
  {
   "cell_type": "code",
   "execution_count": 90,
   "id": "9c5dce93-adce-47ad-868b-55ab89b15dc2",
   "metadata": {},
   "outputs": [],
   "source": [
    "loadscx=pickle.load(open('scx.sav','rb'))"
   ]
  },
  {
   "cell_type": "code",
   "execution_count": 91,
   "id": "85682cbd-61ee-46d4-94f7-d40dd7b8c0ee",
   "metadata": {},
   "outputs": [],
   "source": [
    "loadscy=pickle.load(open('scy.sav','rb'))"
   ]
  },
  {
   "cell_type": "code",
   "execution_count": 92,
   "id": "fd6d2177-76ff-4c24-9bcb-aa5fd5de06d7",
   "metadata": {},
   "outputs": [
    {
     "name": "stderr",
     "output_type": "stream",
     "text": [
      "C:\\Users\\mojayara\\myenv\\Lib\\site-packages\\sklearn\\utils\\validation.py:2739: UserWarning: X does not have valid feature names, but StandardScaler was fitted with feature names\n",
      "  warnings.warn(\n"
     ]
    }
   ],
   "source": [
    "preinput=loadscx.transform([[2000,12000,4000,0,1]])"
   ]
  },
  {
   "cell_type": "code",
   "execution_count": 93,
   "id": "227b28ac-9a07-46a2-8333-85899fbfaacb",
   "metadata": {},
   "outputs": [
    {
     "data": {
      "text/plain": [
       "array([[-1.4804659 , -4.37279969, -1.56079131, -0.52522573,  1.35873244]])"
      ]
     },
     "execution_count": 93,
     "metadata": {},
     "output_type": "execute_result"
    }
   ],
   "source": [
    "preinput"
   ]
  },
  {
   "cell_type": "code",
   "execution_count": 94,
   "id": "43c1aaae-f87d-4cf5-9176-73011b4cb9a3",
   "metadata": {},
   "outputs": [],
   "source": [
    "result=loadmodle.predict(preinput)"
   ]
  },
  {
   "cell_type": "code",
   "execution_count": 95,
   "id": "8bd3f5dd-7dde-4a3f-9cda-0d856bb078cf",
   "metadata": {},
   "outputs": [
    {
     "data": {
      "text/plain": [
       "array([-0.62177375])"
      ]
     },
     "execution_count": 95,
     "metadata": {},
     "output_type": "execute_result"
    }
   ],
   "source": [
    "result"
   ]
  },
  {
   "cell_type": "code",
   "execution_count": 96,
   "id": "b28315f2-f625-4d6b-b169-fa2a0036caaf",
   "metadata": {},
   "outputs": [
    {
     "ename": "ValueError",
     "evalue": "non-broadcastable output operand with shape (1,1) doesn't match the broadcast shape (1,5)",
     "output_type": "error",
     "traceback": [
      "\u001b[31m---------------------------------------------------------------------------\u001b[39m",
      "\u001b[31mValueError\u001b[39m                                Traceback (most recent call last)",
      "\u001b[36mCell\u001b[39m\u001b[36m \u001b[39m\u001b[32mIn[96]\u001b[39m\u001b[32m, line 1\u001b[39m\n\u001b[32m----> \u001b[39m\u001b[32m1\u001b[39m preoutput=\u001b[43mloadscy\u001b[49m\u001b[43m.\u001b[49m\u001b[43minverse_transform\u001b[49m\u001b[43m(\u001b[49m\u001b[43m[\u001b[49m\u001b[43mresult\u001b[49m\u001b[43m]\u001b[49m\u001b[43m)\u001b[49m\n",
      "\u001b[36mFile \u001b[39m\u001b[32m~\\myenv\\Lib\\site-packages\\sklearn\\preprocessing\\_data.py:1125\u001b[39m, in \u001b[36mStandardScaler.inverse_transform\u001b[39m\u001b[34m(self, X, copy)\u001b[39m\n\u001b[32m   1123\u001b[39m \u001b[38;5;28;01melse\u001b[39;00m:\n\u001b[32m   1124\u001b[39m     \u001b[38;5;28;01mif\u001b[39;00m \u001b[38;5;28mself\u001b[39m.with_std:\n\u001b[32m-> \u001b[39m\u001b[32m1125\u001b[39m         \u001b[43mX\u001b[49m\u001b[43m \u001b[49m\u001b[43m*\u001b[49m\u001b[43m=\u001b[49m\u001b[43m \u001b[49m\u001b[38;5;28;43mself\u001b[39;49m\u001b[43m.\u001b[49m\u001b[43mscale_\u001b[49m\n\u001b[32m   1126\u001b[39m     \u001b[38;5;28;01mif\u001b[39;00m \u001b[38;5;28mself\u001b[39m.with_mean:\n\u001b[32m   1127\u001b[39m         X += \u001b[38;5;28mself\u001b[39m.mean_\n",
      "\u001b[31mValueError\u001b[39m: non-broadcastable output operand with shape (1,1) doesn't match the broadcast shape (1,5)"
     ]
    }
   ],
   "source": [
    "preoutput=loadscy.inverse_transform([result])"
   ]
  },
  {
   "cell_type": "code",
   "execution_count": null,
   "id": "3cf539d6-8b0a-4a57-b57e-7129d99cd037",
   "metadata": {},
   "outputs": [],
   "source": []
  },
  {
   "cell_type": "code",
   "execution_count": null,
   "id": "34c549ae-621d-4823-8570-abe319c8a93f",
   "metadata": {},
   "outputs": [],
   "source": []
  },
  {
   "cell_type": "code",
   "execution_count": null,
   "id": "a5af2afb-83c5-4720-b7d3-0506201573c6",
   "metadata": {},
   "outputs": [],
   "source": []
  }
 ],
 "metadata": {
  "kernelspec": {
   "display_name": "Python 3 (ipykernel)",
   "language": "python",
   "name": "python3"
  },
  "language_info": {
   "codemirror_mode": {
    "name": "ipython",
    "version": 3
   },
   "file_extension": ".py",
   "mimetype": "text/x-python",
   "name": "python",
   "nbconvert_exporter": "python",
   "pygments_lexer": "ipython3",
   "version": "3.13.3"
  }
 },
 "nbformat": 4,
 "nbformat_minor": 5
}
